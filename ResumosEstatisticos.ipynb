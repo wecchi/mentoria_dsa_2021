{
 "cells": [
  {
   "cell_type": "markdown",
   "metadata": {
    "id": "X0p4kq0U2Yi1"
   },
   "source": [
    "# Resumos Estatísticos dos Dados\n",
    "\n",
    "Fonte de dados: Painel de Precificação da ANS\n"
   ]
  },
  {
   "cell_type": "code",
   "execution_count": 19,
   "metadata": {
    "id": "eHkNZ8WQ7uwd"
   },
   "outputs": [],
   "source": [
    "# Compartilhamento de arquivo no Drive\n",
    "id_link = \"1KEv9rvTq62hiQeMww25WbDrZr_nmzPpg\""
   ]
  },
  {
   "cell_type": "markdown",
   "metadata": {
    "id": "DWBeG5r9_WyH"
   },
   "source": [
    "## Bibliotecas utilizadas"
   ]
  },
  {
   "cell_type": "code",
   "execution_count": 3,
   "metadata": {
    "colab": {
     "base_uri": "https://localhost:8080/"
    },
    "id": "JzqdNSNV2MVA",
    "outputId": "67e78381-3ea8-4410-f4ce-0eb962dd3089"
   },
   "outputs": [
    {
     "name": "stdout",
     "output_type": "stream",
     "text": [
      "Author: Mentoria DSA 2021 - Turma 43\n",
      "\n",
      "matplotlib: 3.2.2\n",
      "IPython   : 5.5.0\n",
      "numpy     : 1.19.5\n",
      "pandas    : 1.1.5\n",
      "\n"
     ]
    }
   ],
   "source": [
    "import numpy as np\n",
    "import pandas as pd\n",
    "import matplotlib.pyplot as plt\n",
    "import warnings\n",
    "warnings.filterwarnings('ignore')\n",
    "# Versões dos pacotes usados neste jupyter notebook\n",
    "\n",
    "%reload_ext watermark\n",
    "%watermark -a \"Mentoria DSA 2021 - Turma 43\" --iversions"
   ]
  },
  {
   "cell_type": "code",
   "execution_count": 12,
   "metadata": {
    "id": "QYocDMkU4Uvi"
   },
   "outputs": [],
   "source": [
    "!pip install -U -q PyDrive\n",
    "from pydrive.auth import GoogleAuth\n",
    "from pydrive.drive import GoogleDrive\n",
    "from google.colab import auth\n",
    "from oauth2client.client import GoogleCredentials"
   ]
  },
  {
   "cell_type": "markdown",
   "metadata": {
    "id": "NfedQ6uU_dUK"
   },
   "source": [
    "## Carregamento dos dados do Google Drive"
   ]
  },
  {
   "cell_type": "code",
   "execution_count": null,
   "metadata": {
    "id": "Xs8VGif6_pq4"
   },
   "outputs": [],
   "source": [
    "# Authenticate and create the PyDrive client.\n",
    "auth.authenticate_user()\n",
    "gauth = GoogleAuth()\n",
    "gauth.credentials = GoogleCredentials.get_application_default()\n",
    "drive = GoogleDrive(gauth)"
   ]
  },
  {
   "cell_type": "code",
   "execution_count": 20,
   "metadata": {
    "id": "kj4mZHZz4Ywt"
   },
   "outputs": [],
   "source": [
    "downloaded = drive.CreateFile({'id':id_link}) \n",
    "downloaded.GetContentFile('dfPrecoMensal.csv')  \n",
    "dfDados = pd.read_csv('dfPrecoMensal.csv', sep = \",\", decimal='.', error_bad_lines=False)"
   ]
  },
  {
   "cell_type": "code",
   "execution_count": 21,
   "metadata": {
    "colab": {
     "base_uri": "https://localhost:8080/",
     "height": 203
    },
    "id": "Ly5gmbrA5yvS",
    "outputId": "e2a3b158-cf5b-45be-8d0a-c0fc24538e0d"
   },
   "outputs": [
    {
     "data": {
      "text/html": [
       "<div>\n",
       "<style scoped>\n",
       "    .dataframe tbody tr th:only-of-type {\n",
       "        vertical-align: middle;\n",
       "    }\n",
       "\n",
       "    .dataframe tbody tr th {\n",
       "        vertical-align: top;\n",
       "    }\n",
       "\n",
       "    .dataframe thead th {\n",
       "        text-align: right;\n",
       "    }\n",
       "</style>\n",
       "<table border=\"1\" class=\"dataframe\">\n",
       "  <thead>\n",
       "    <tr style=\"text-align: right;\">\n",
       "      <th></th>\n",
       "      <th>contratacao</th>\n",
       "      <th>segmentacao</th>\n",
       "      <th>in_obstetricia</th>\n",
       "      <th>cobertura</th>\n",
       "      <th>abrangencia</th>\n",
       "      <th>fator</th>\n",
       "      <th>acomodacao</th>\n",
       "      <th>internacao</th>\n",
       "      <th>cd_faixa_etaria</th>\n",
       "      <th>nm_regiao</th>\n",
       "      <th>mensalidade</th>\n",
       "    </tr>\n",
       "  </thead>\n",
       "  <tbody>\n",
       "    <tr>\n",
       "      <th>0</th>\n",
       "      <td>Individual ou familiar</td>\n",
       "      <td>Ambulatorial e Hospitalar</td>\n",
       "      <td>1</td>\n",
       "      <td>Médico-hospitalar</td>\n",
       "      <td>Nacional</td>\n",
       "      <td>Co-participação</td>\n",
       "      <td>Coletiva</td>\n",
       "      <td>Ausente</td>\n",
       "      <td>1</td>\n",
       "      <td>Sul</td>\n",
       "      <td>221.837</td>\n",
       "    </tr>\n",
       "    <tr>\n",
       "      <th>1</th>\n",
       "      <td>Individual ou familiar</td>\n",
       "      <td>Ambulatorial e Hospitalar</td>\n",
       "      <td>1</td>\n",
       "      <td>Médico-hospitalar</td>\n",
       "      <td>Nacional</td>\n",
       "      <td>Co-participação</td>\n",
       "      <td>Coletiva</td>\n",
       "      <td>Ausente</td>\n",
       "      <td>2</td>\n",
       "      <td>Sul</td>\n",
       "      <td>232.932</td>\n",
       "    </tr>\n",
       "    <tr>\n",
       "      <th>2</th>\n",
       "      <td>Individual ou familiar</td>\n",
       "      <td>Ambulatorial e Hospitalar</td>\n",
       "      <td>1</td>\n",
       "      <td>Médico-hospitalar</td>\n",
       "      <td>Nacional</td>\n",
       "      <td>Co-participação</td>\n",
       "      <td>Coletiva</td>\n",
       "      <td>Ausente</td>\n",
       "      <td>3</td>\n",
       "      <td>Sul</td>\n",
       "      <td>255.115</td>\n",
       "    </tr>\n",
       "    <tr>\n",
       "      <th>3</th>\n",
       "      <td>Individual ou familiar</td>\n",
       "      <td>Ambulatorial e Hospitalar</td>\n",
       "      <td>1</td>\n",
       "      <td>Médico-hospitalar</td>\n",
       "      <td>Nacional</td>\n",
       "      <td>Co-participação</td>\n",
       "      <td>Coletiva</td>\n",
       "      <td>Ausente</td>\n",
       "      <td>4</td>\n",
       "      <td>Sul</td>\n",
       "      <td>288.393</td>\n",
       "    </tr>\n",
       "    <tr>\n",
       "      <th>4</th>\n",
       "      <td>Individual ou familiar</td>\n",
       "      <td>Ambulatorial e Hospitalar</td>\n",
       "      <td>1</td>\n",
       "      <td>Médico-hospitalar</td>\n",
       "      <td>Nacional</td>\n",
       "      <td>Co-participação</td>\n",
       "      <td>Coletiva</td>\n",
       "      <td>Ausente</td>\n",
       "      <td>5</td>\n",
       "      <td>Sul</td>\n",
       "      <td>332.759</td>\n",
       "    </tr>\n",
       "  </tbody>\n",
       "</table>\n",
       "</div>"
      ],
      "text/plain": [
       "              contratacao                segmentacao  ...  nm_regiao mensalidade\n",
       "0  Individual ou familiar  Ambulatorial e Hospitalar  ...        Sul     221.837\n",
       "1  Individual ou familiar  Ambulatorial e Hospitalar  ...        Sul     232.932\n",
       "2  Individual ou familiar  Ambulatorial e Hospitalar  ...        Sul     255.115\n",
       "3  Individual ou familiar  Ambulatorial e Hospitalar  ...        Sul     288.393\n",
       "4  Individual ou familiar  Ambulatorial e Hospitalar  ...        Sul     332.759\n",
       "\n",
       "[5 rows x 11 columns]"
      ]
     },
     "execution_count": 21,
     "metadata": {
      "tags": []
     },
     "output_type": "execute_result"
    }
   ],
   "source": [
    "dfDados.head()"
   ]
  },
  {
   "cell_type": "code",
   "execution_count": 24,
   "metadata": {
    "colab": {
     "base_uri": "https://localhost:8080/"
    },
    "id": "ng8RBM7Y_G9d",
    "outputId": "2d846415-d5cd-45a5-dd2d-fbd44f72a732"
   },
   "outputs": [
    {
     "data": {
      "text/plain": [
       "(100886, 11)"
      ]
     },
     "execution_count": 24,
     "metadata": {
      "tags": []
     },
     "output_type": "execute_result"
    }
   ],
   "source": [
    "dfDados.shape"
   ]
  },
  {
   "cell_type": "code",
   "execution_count": 26,
   "metadata": {
    "colab": {
     "base_uri": "https://localhost:8080/"
    },
    "id": "KtVfHy5p_vjV",
    "outputId": "9168ff48-72fa-4d34-dccd-e86e70f67b5d"
   },
   "outputs": [
    {
     "name": "stdout",
     "output_type": "stream",
     "text": [
      "<class 'pandas.core.frame.DataFrame'>\n",
      "RangeIndex: 100886 entries, 0 to 100885\n",
      "Data columns (total 11 columns):\n",
      " #   Column           Non-Null Count   Dtype  \n",
      "---  ------           --------------   -----  \n",
      " 0   contratacao      100886 non-null  object \n",
      " 1   segmentacao      100886 non-null  object \n",
      " 2   in_obstetricia   100886 non-null  int64  \n",
      " 3   cobertura        100886 non-null  object \n",
      " 4   abrangencia      100886 non-null  object \n",
      " 5   fator            100886 non-null  object \n",
      " 6   acomodacao       100886 non-null  object \n",
      " 7   internacao       100886 non-null  object \n",
      " 8   cd_faixa_etaria  100886 non-null  int64  \n",
      " 9   nm_regiao        100886 non-null  object \n",
      " 10  mensalidade      100886 non-null  float64\n",
      "dtypes: float64(1), int64(2), object(8)\n",
      "memory usage: 8.5+ MB\n"
     ]
    }
   ],
   "source": [
    "dfDados.info()"
   ]
  },
  {
   "cell_type": "markdown",
   "metadata": {
    "id": "COHoebqWAMmN"
   },
   "source": [
    "## Análise Exploratória"
   ]
  },
  {
   "cell_type": "code",
   "execution_count": 28,
   "metadata": {
    "colab": {
     "base_uri": "https://localhost:8080/"
    },
    "id": "6dw3kv9QALps",
    "outputId": "0e036a37-bcb0-408f-f0f2-d6292141a814"
   },
   "outputs": [
    {
     "data": {
      "text/plain": [
       "contratacao        0\n",
       "segmentacao        0\n",
       "in_obstetricia     0\n",
       "cobertura          0\n",
       "abrangencia        0\n",
       "fator              0\n",
       "acomodacao         0\n",
       "internacao         0\n",
       "cd_faixa_etaria    0\n",
       "nm_regiao          0\n",
       "mensalidade        0\n",
       "dtype: int64"
      ]
     },
     "execution_count": 28,
     "metadata": {
      "tags": []
     },
     "output_type": "execute_result"
    }
   ],
   "source": [
    "# Verificação de valores missings (ausentes)\n",
    "dfDados.isna().sum()"
   ]
  },
  {
   "cell_type": "code",
   "execution_count": 40,
   "metadata": {
    "id": "FsflEc5gA9e8"
   },
   "outputs": [],
   "source": [
    "# Conversão atributos em dados categóricos, com exceção do valor do plano\n",
    "for c in dfDados.columns:\n",
    "  if dfDados[c].dtype != \"float64\":\n",
    "    dfDados[c] = dfDados[c].astype(\"category\")"
   ]
  },
  {
   "cell_type": "code",
   "execution_count": 41,
   "metadata": {
    "colab": {
     "base_uri": "https://localhost:8080/"
    },
    "id": "tuH-iQI2DyMW",
    "outputId": "d0f572de-ff4f-4504-95dc-87c416dd9fd4"
   },
   "outputs": [
    {
     "name": "stdout",
     "output_type": "stream",
     "text": [
      "<class 'pandas.core.frame.DataFrame'>\n",
      "RangeIndex: 100886 entries, 0 to 100885\n",
      "Data columns (total 11 columns):\n",
      " #   Column           Non-Null Count   Dtype   \n",
      "---  ------           --------------   -----   \n",
      " 0   contratacao      100886 non-null  category\n",
      " 1   segmentacao      100886 non-null  category\n",
      " 2   in_obstetricia   100886 non-null  category\n",
      " 3   cobertura        100886 non-null  category\n",
      " 4   abrangencia      100886 non-null  category\n",
      " 5   fator            100886 non-null  category\n",
      " 6   acomodacao       100886 non-null  category\n",
      " 7   internacao       100886 non-null  category\n",
      " 8   cd_faixa_etaria  100886 non-null  category\n",
      " 9   nm_regiao        100886 non-null  category\n",
      " 10  mensalidade      100886 non-null  float64 \n",
      "dtypes: category(10), float64(1)\n",
      "memory usage: 1.7 MB\n"
     ]
    }
   ],
   "source": [
    "dfDados.info()"
   ]
  },
  {
   "cell_type": "markdown",
   "metadata": {
    "id": "0KsvLUhiFeMB"
   },
   "source": [
    "### Variável Target"
   ]
  },
  {
   "cell_type": "code",
   "execution_count": 46,
   "metadata": {
    "colab": {
     "base_uri": "https://localhost:8080/"
    },
    "id": "gewKO_b_Ewee",
    "outputId": "05835ece-685a-4fa0-b24a-9e8e950fca0b"
   },
   "outputs": [
    {
     "data": {
      "text/plain": [
       "count    100886.000000\n",
       "mean        501.571873\n",
       "std         563.642598\n",
       "min          11.900000\n",
       "25%         200.921000\n",
       "50%         339.076500\n",
       "75%         594.062000\n",
       "max       13739.635000\n",
       "Name: mensalidade, dtype: float64"
      ]
     },
     "execution_count": 46,
     "metadata": {
      "tags": []
     },
     "output_type": "execute_result"
    }
   ],
   "source": [
    "\n",
    "dfDados['mensalidade'].describe()"
   ]
  },
  {
   "cell_type": "code",
   "execution_count": 72,
   "metadata": {
    "colab": {
     "base_uri": "https://localhost:8080/",
     "height": 522
    },
    "id": "Exj3C855FiYR",
    "outputId": "d7848a0e-ef2d-46fe-d20d-fdc7ddab0cf1"
   },
   "outputs": [
    {
     "data": {
      "text/plain": [
       "Text(0.5, 1.0, 'Histograma - Mensalidade')"
      ]
     },
     "execution_count": 72,
     "metadata": {
      "tags": []
     },
     "output_type": "execute_result"
    },
    {
     "data": {
      "image/png": "[encoded data removed]",
      "text/plain": [
       "<Figure size 720x576 with 1 Axes>"
      ]
     },
     "metadata": {
      "needs_background": "light",
      "tags": []
     },
     "output_type": "display_data"
    }
   ],
   "source": [
    "dfDados['mensalidade'].hist(bins=100, figsize=(10,8)).set_title(\"Histograma - Mensalidade\", fontsize=20)"
   ]
  },
  {
   "cell_type": "code",
   "execution_count": 93,
   "metadata": {
    "colab": {
     "base_uri": "https://localhost:8080/",
     "height": 250
    },
    "id": "rc2Jx5zXIDpQ",
    "outputId": "c78be1c7-93f5-4cbc-e075-d1a29d1bde87"
   },
   "outputs": [
    {
     "data": {
      "text/plain": [
       "Text(0.5, 1.0, 'Boxplot - Mensalidade')"
      ]
     },
     "execution_count": 93,
     "metadata": {
      "tags": []
     },
     "output_type": "execute_result"
    },
    {
     "data": {
      "image/png": "[encoded data removed]",
      "text/plain": [
       "<Figure size 1080x216 with 1 Axes>"
      ]
     },
     "metadata": {
      "needs_background": "light",
      "tags": []
     },
     "output_type": "display_data"
    }
   ],
   "source": [
    "boxprops = dict(linestyle='-', linewidth=1.5, color = 'r')\n",
    "dfDados.boxplot(column=['mensalidade'], \n",
    "                vert=False, \n",
    "                grid=False,\n",
    "                showfliers=False, \n",
    "                rot=90, \n",
    "                fontsize=10, \n",
    "                figsize=(15,3),\n",
    "                color=dict(boxes='r', whiskers='r', medians='r', caps='r'),\n",
    "                boxprops=boxprops).set_title(\"Boxplot - Mensalidade\", fontsize=20)"
   ]
  },
  {
   "cell_type": "markdown",
   "metadata": {
    "id": "FOXIzSPuXGH8"
   },
   "source": [
    "## Variáveis categóricas"
   ]
  },
  {
   "cell_type": "code",
   "execution_count": 97,
   "metadata": {
    "colab": {
     "base_uri": "https://localhost:8080/",
     "height": 234
    },
    "id": "NoH3hcDWXC_f",
    "outputId": "13e69d66-9f3d-4dd7-db8a-be5e02d73782"
   },
   "outputs": [
    {
     "data": {
      "text/html": [
       "<div>\n",
       "<style scoped>\n",
       "    .dataframe tbody tr th:only-of-type {\n",
       "        vertical-align: middle;\n",
       "    }\n",
       "\n",
       "    .dataframe tbody tr th {\n",
       "        vertical-align: top;\n",
       "    }\n",
       "\n",
       "    .dataframe thead th {\n",
       "        text-align: right;\n",
       "    }\n",
       "</style>\n",
       "<table border=\"1\" class=\"dataframe\">\n",
       "  <thead>\n",
       "    <tr style=\"text-align: right;\">\n",
       "      <th>col_0</th>\n",
       "      <th>count</th>\n",
       "    </tr>\n",
       "    <tr>\n",
       "      <th>abrangencia</th>\n",
       "      <th></th>\n",
       "    </tr>\n",
       "  </thead>\n",
       "  <tbody>\n",
       "    <tr>\n",
       "      <th>Estadual</th>\n",
       "      <td>9038</td>\n",
       "    </tr>\n",
       "    <tr>\n",
       "      <th>Grupo de estados</th>\n",
       "      <td>2324</td>\n",
       "    </tr>\n",
       "    <tr>\n",
       "      <th>Grupo de municípios</th>\n",
       "      <td>44554</td>\n",
       "    </tr>\n",
       "    <tr>\n",
       "      <th>Municipal</th>\n",
       "      <td>9482</td>\n",
       "    </tr>\n",
       "    <tr>\n",
       "      <th>Nacional</th>\n",
       "      <td>35488</td>\n",
       "    </tr>\n",
       "  </tbody>\n",
       "</table>\n",
       "</div>"
      ],
      "text/plain": [
       "col_0                count\n",
       "abrangencia               \n",
       "Estadual              9038\n",
       "Grupo de estados      2324\n",
       "Grupo de municípios  44554\n",
       "Municipal             9482\n",
       "Nacional             35488"
      ]
     },
     "execution_count": 97,
     "metadata": {
      "tags": []
     },
     "output_type": "execute_result"
    }
   ],
   "source": [
    "pd.crosstab(index=dfDados['abrangencia'], columns=\"count\")"
   ]
  },
  {
   "cell_type": "code",
   "execution_count": 98,
   "metadata": {
    "colab": {
     "base_uri": "https://localhost:8080/",
     "height": 203
    },
    "id": "KzG67PhvYbow",
    "outputId": "e84fb24b-0266-48f9-d035-643807204bca"
   },
   "outputs": [
    {
     "data": {
      "text/html": [
       "<div>\n",
       "<style scoped>\n",
       "    .dataframe tbody tr th:only-of-type {\n",
       "        vertical-align: middle;\n",
       "    }\n",
       "\n",
       "    .dataframe tbody tr th {\n",
       "        vertical-align: top;\n",
       "    }\n",
       "\n",
       "    .dataframe thead th {\n",
       "        text-align: right;\n",
       "    }\n",
       "</style>\n",
       "<table border=\"1\" class=\"dataframe\">\n",
       "  <thead>\n",
       "    <tr style=\"text-align: right;\">\n",
       "      <th>col_0</th>\n",
       "      <th>count</th>\n",
       "    </tr>\n",
       "    <tr>\n",
       "      <th>acomodacao</th>\n",
       "      <th></th>\n",
       "    </tr>\n",
       "  </thead>\n",
       "  <tbody>\n",
       "    <tr>\n",
       "      <th>Coletiva</th>\n",
       "      <td>50616</td>\n",
       "    </tr>\n",
       "    <tr>\n",
       "      <th>Individual</th>\n",
       "      <td>44486</td>\n",
       "    </tr>\n",
       "    <tr>\n",
       "      <th>Não identificado</th>\n",
       "      <td>30</td>\n",
       "    </tr>\n",
       "    <tr>\n",
       "      <th>Não se aplica</th>\n",
       "      <td>5754</td>\n",
       "    </tr>\n",
       "  </tbody>\n",
       "</table>\n",
       "</div>"
      ],
      "text/plain": [
       "col_0             count\n",
       "acomodacao             \n",
       "Coletiva          50616\n",
       "Individual        44486\n",
       "Não identificado     30\n",
       "Não se aplica      5754"
      ]
     },
     "execution_count": 98,
     "metadata": {
      "tags": []
     },
     "output_type": "execute_result"
    }
   ],
   "source": [
    "pd.crosstab(index=dfDados['acomodacao'], columns=\"count\")"
   ]
  },
  {
   "cell_type": "code",
   "execution_count": 113,
   "metadata": {
    "colab": {
     "base_uri": "https://localhost:8080/",
     "height": 388
    },
    "id": "sw8JP4XOl0UG",
    "outputId": "92d2dad1-d09f-457d-b22e-9fef498c1733"
   },
   "outputs": [
    {
     "data": {
      "text/html": [
       "<div>\n",
       "<style scoped>\n",
       "    .dataframe tbody tr th:only-of-type {\n",
       "        vertical-align: middle;\n",
       "    }\n",
       "\n",
       "    .dataframe tbody tr th {\n",
       "        vertical-align: top;\n",
       "    }\n",
       "\n",
       "    .dataframe thead th {\n",
       "        text-align: right;\n",
       "    }\n",
       "</style>\n",
       "<table border=\"1\" class=\"dataframe\">\n",
       "  <thead>\n",
       "    <tr style=\"text-align: right;\">\n",
       "      <th>col_0</th>\n",
       "      <th>count</th>\n",
       "    </tr>\n",
       "    <tr>\n",
       "      <th>cd_faixa_etaria</th>\n",
       "      <th></th>\n",
       "    </tr>\n",
       "  </thead>\n",
       "  <tbody>\n",
       "    <tr>\n",
       "      <th>1</th>\n",
       "      <td>10058</td>\n",
       "    </tr>\n",
       "    <tr>\n",
       "      <th>2</th>\n",
       "      <td>10070</td>\n",
       "    </tr>\n",
       "    <tr>\n",
       "      <th>3</th>\n",
       "      <td>10074</td>\n",
       "    </tr>\n",
       "    <tr>\n",
       "      <th>4</th>\n",
       "      <td>10081</td>\n",
       "    </tr>\n",
       "    <tr>\n",
       "      <th>5</th>\n",
       "      <td>10088</td>\n",
       "    </tr>\n",
       "    <tr>\n",
       "      <th>6</th>\n",
       "      <td>10097</td>\n",
       "    </tr>\n",
       "    <tr>\n",
       "      <th>7</th>\n",
       "      <td>10101</td>\n",
       "    </tr>\n",
       "    <tr>\n",
       "      <th>8</th>\n",
       "      <td>10103</td>\n",
       "    </tr>\n",
       "    <tr>\n",
       "      <th>9</th>\n",
       "      <td>10102</td>\n",
       "    </tr>\n",
       "    <tr>\n",
       "      <th>10</th>\n",
       "      <td>10112</td>\n",
       "    </tr>\n",
       "  </tbody>\n",
       "</table>\n",
       "</div>"
      ],
      "text/plain": [
       "col_0            count\n",
       "cd_faixa_etaria       \n",
       "1                10058\n",
       "2                10070\n",
       "3                10074\n",
       "4                10081\n",
       "5                10088\n",
       "6                10097\n",
       "7                10101\n",
       "8                10103\n",
       "9                10102\n",
       "10               10112"
      ]
     },
     "execution_count": 113,
     "metadata": {
      "tags": []
     },
     "output_type": "execute_result"
    }
   ],
   "source": [
    "pd.crosstab(index=dfDados['cd_faixa_etaria'], columns=\"count\")"
   ]
  },
  {
   "cell_type": "code",
   "execution_count": 99,
   "metadata": {
    "colab": {
     "base_uri": "https://localhost:8080/",
     "height": 110
    },
    "id": "DStU2zZ2YjtS",
    "outputId": "20845a76-865c-4f3b-8548-bd75ccce8148"
   },
   "outputs": [
    {
     "data": {
      "text/html": [
       "<div>\n",
       "<style scoped>\n",
       "    .dataframe tbody tr th:only-of-type {\n",
       "        vertical-align: middle;\n",
       "    }\n",
       "\n",
       "    .dataframe tbody tr th {\n",
       "        vertical-align: top;\n",
       "    }\n",
       "\n",
       "    .dataframe thead th {\n",
       "        text-align: right;\n",
       "    }\n",
       "</style>\n",
       "<table border=\"1\" class=\"dataframe\">\n",
       "  <thead>\n",
       "    <tr style=\"text-align: right;\">\n",
       "      <th>col_0</th>\n",
       "      <th>count</th>\n",
       "    </tr>\n",
       "    <tr>\n",
       "      <th>cobertura</th>\n",
       "      <th></th>\n",
       "    </tr>\n",
       "  </thead>\n",
       "  <tbody>\n",
       "    <tr>\n",
       "      <th>Médico-hospitalar</th>\n",
       "      <td>100886</td>\n",
       "    </tr>\n",
       "  </tbody>\n",
       "</table>\n",
       "</div>"
      ],
      "text/plain": [
       "col_0               count\n",
       "cobertura                \n",
       "Médico-hospitalar  100886"
      ]
     },
     "execution_count": 99,
     "metadata": {
      "tags": []
     },
     "output_type": "execute_result"
    }
   ],
   "source": [
    "pd.crosstab(index=dfDados['cobertura'], columns=\"count\")"
   ]
  },
  {
   "cell_type": "code",
   "execution_count": 100,
   "metadata": {
    "colab": {
     "base_uri": "https://localhost:8080/",
     "height": 142
    },
    "id": "p61_6CIWZBCO",
    "outputId": "eeb87924-08e9-4b14-d7ab-6eb5987b2fa4"
   },
   "outputs": [
    {
     "data": {
      "text/html": [
       "<div>\n",
       "<style scoped>\n",
       "    .dataframe tbody tr th:only-of-type {\n",
       "        vertical-align: middle;\n",
       "    }\n",
       "\n",
       "    .dataframe tbody tr th {\n",
       "        vertical-align: top;\n",
       "    }\n",
       "\n",
       "    .dataframe thead th {\n",
       "        text-align: right;\n",
       "    }\n",
       "</style>\n",
       "<table border=\"1\" class=\"dataframe\">\n",
       "  <thead>\n",
       "    <tr style=\"text-align: right;\">\n",
       "      <th>col_0</th>\n",
       "      <th>count</th>\n",
       "    </tr>\n",
       "    <tr>\n",
       "      <th>contratacao</th>\n",
       "      <th></th>\n",
       "    </tr>\n",
       "  </thead>\n",
       "  <tbody>\n",
       "    <tr>\n",
       "      <th>Coletivo por adesão</th>\n",
       "      <td>62551</td>\n",
       "    </tr>\n",
       "    <tr>\n",
       "      <th>Individual ou familiar</th>\n",
       "      <td>38335</td>\n",
       "    </tr>\n",
       "  </tbody>\n",
       "</table>\n",
       "</div>"
      ],
      "text/plain": [
       "col_0                   count\n",
       "contratacao                  \n",
       "Coletivo por adesão     62551\n",
       "Individual ou familiar  38335"
      ]
     },
     "execution_count": 100,
     "metadata": {
      "tags": []
     },
     "output_type": "execute_result"
    }
   ],
   "source": [
    "pd.crosstab(index=dfDados['contratacao'], columns=\"count\")"
   ]
  },
  {
   "cell_type": "code",
   "execution_count": 102,
   "metadata": {
    "colab": {
     "base_uri": "https://localhost:8080/",
     "height": 203
    },
    "id": "X0fmIJerZRhJ",
    "outputId": "2d4453ff-ac00-4628-b148-2958089d5200"
   },
   "outputs": [
    {
     "data": {
      "text/html": [
       "<div>\n",
       "<style scoped>\n",
       "    .dataframe tbody tr th:only-of-type {\n",
       "        vertical-align: middle;\n",
       "    }\n",
       "\n",
       "    .dataframe tbody tr th {\n",
       "        vertical-align: top;\n",
       "    }\n",
       "\n",
       "    .dataframe thead th {\n",
       "        text-align: right;\n",
       "    }\n",
       "</style>\n",
       "<table border=\"1\" class=\"dataframe\">\n",
       "  <thead>\n",
       "    <tr style=\"text-align: right;\">\n",
       "      <th>col_0</th>\n",
       "      <th>count</th>\n",
       "    </tr>\n",
       "    <tr>\n",
       "      <th>fator</th>\n",
       "      <th></th>\n",
       "    </tr>\n",
       "  </thead>\n",
       "  <tbody>\n",
       "    <tr>\n",
       "      <th>Ausente</th>\n",
       "      <td>40715</td>\n",
       "    </tr>\n",
       "    <tr>\n",
       "      <th>Co-participação</th>\n",
       "      <td>52233</td>\n",
       "    </tr>\n",
       "    <tr>\n",
       "      <th>Franquia</th>\n",
       "      <td>1340</td>\n",
       "    </tr>\n",
       "    <tr>\n",
       "      <th>Franquia + Co-participação</th>\n",
       "      <td>6598</td>\n",
       "    </tr>\n",
       "  </tbody>\n",
       "</table>\n",
       "</div>"
      ],
      "text/plain": [
       "col_0                       count\n",
       "fator                            \n",
       "Ausente                     40715\n",
       "Co-participação             52233\n",
       "Franquia                     1340\n",
       "Franquia + Co-participação   6598"
      ]
     },
     "execution_count": 102,
     "metadata": {
      "tags": []
     },
     "output_type": "execute_result"
    }
   ],
   "source": [
    "pd.crosstab(index=dfDados['fator'], columns=\"count\")"
   ]
  },
  {
   "cell_type": "code",
   "execution_count": 103,
   "metadata": {
    "colab": {
     "base_uri": "https://localhost:8080/",
     "height": 142
    },
    "id": "_BV-kZgPZfnc",
    "outputId": "64cce1bd-836f-461a-8713-c90b20d5bd42"
   },
   "outputs": [
    {
     "data": {
      "text/html": [
       "<div>\n",
       "<style scoped>\n",
       "    .dataframe tbody tr th:only-of-type {\n",
       "        vertical-align: middle;\n",
       "    }\n",
       "\n",
       "    .dataframe tbody tr th {\n",
       "        vertical-align: top;\n",
       "    }\n",
       "\n",
       "    .dataframe thead th {\n",
       "        text-align: right;\n",
       "    }\n",
       "</style>\n",
       "<table border=\"1\" class=\"dataframe\">\n",
       "  <thead>\n",
       "    <tr style=\"text-align: right;\">\n",
       "      <th>col_0</th>\n",
       "      <th>count</th>\n",
       "    </tr>\n",
       "    <tr>\n",
       "      <th>in_obstetricia</th>\n",
       "      <th></th>\n",
       "    </tr>\n",
       "  </thead>\n",
       "  <tbody>\n",
       "    <tr>\n",
       "      <th>0</th>\n",
       "      <td>10536</td>\n",
       "    </tr>\n",
       "    <tr>\n",
       "      <th>1</th>\n",
       "      <td>90350</td>\n",
       "    </tr>\n",
       "  </tbody>\n",
       "</table>\n",
       "</div>"
      ],
      "text/plain": [
       "col_0           count\n",
       "in_obstetricia       \n",
       "0               10536\n",
       "1               90350"
      ]
     },
     "execution_count": 103,
     "metadata": {
      "tags": []
     },
     "output_type": "execute_result"
    }
   ],
   "source": [
    "pd.crosstab(index=dfDados['in_obstetricia'], columns=\"count\")"
   ]
  },
  {
   "cell_type": "code",
   "execution_count": 111,
   "metadata": {
    "colab": {
     "base_uri": "https://localhost:8080/",
     "height": 172
    },
    "id": "xwVwTvcUZuAm",
    "outputId": "cdb28b9e-2fc6-4cf0-f25d-676fd48887c8"
   },
   "outputs": [
    {
     "data": {
      "text/html": [
       "<div>\n",
       "<style scoped>\n",
       "    .dataframe tbody tr th:only-of-type {\n",
       "        vertical-align: middle;\n",
       "    }\n",
       "\n",
       "    .dataframe tbody tr th {\n",
       "        vertical-align: top;\n",
       "    }\n",
       "\n",
       "    .dataframe thead th {\n",
       "        text-align: right;\n",
       "    }\n",
       "</style>\n",
       "<table border=\"1\" class=\"dataframe\">\n",
       "  <thead>\n",
       "    <tr style=\"text-align: right;\">\n",
       "      <th>cd_faixa_etaria</th>\n",
       "      <th>1</th>\n",
       "      <th>2</th>\n",
       "      <th>3</th>\n",
       "      <th>4</th>\n",
       "      <th>5</th>\n",
       "      <th>6</th>\n",
       "      <th>7</th>\n",
       "      <th>8</th>\n",
       "      <th>9</th>\n",
       "      <th>10</th>\n",
       "      <th>Total</th>\n",
       "    </tr>\n",
       "    <tr>\n",
       "      <th>in_obstetricia</th>\n",
       "      <th></th>\n",
       "      <th></th>\n",
       "      <th></th>\n",
       "      <th></th>\n",
       "      <th></th>\n",
       "      <th></th>\n",
       "      <th></th>\n",
       "      <th></th>\n",
       "      <th></th>\n",
       "      <th></th>\n",
       "      <th></th>\n",
       "    </tr>\n",
       "  </thead>\n",
       "  <tbody>\n",
       "    <tr>\n",
       "      <th>0</th>\n",
       "      <td>1048</td>\n",
       "      <td>1050</td>\n",
       "      <td>1051</td>\n",
       "      <td>1050</td>\n",
       "      <td>1054</td>\n",
       "      <td>1054</td>\n",
       "      <td>1053</td>\n",
       "      <td>1055</td>\n",
       "      <td>1060</td>\n",
       "      <td>1061</td>\n",
       "      <td>10536</td>\n",
       "    </tr>\n",
       "    <tr>\n",
       "      <th>1</th>\n",
       "      <td>9010</td>\n",
       "      <td>9020</td>\n",
       "      <td>9023</td>\n",
       "      <td>9031</td>\n",
       "      <td>9034</td>\n",
       "      <td>9043</td>\n",
       "      <td>9048</td>\n",
       "      <td>9048</td>\n",
       "      <td>9042</td>\n",
       "      <td>9051</td>\n",
       "      <td>90350</td>\n",
       "    </tr>\n",
       "    <tr>\n",
       "      <th>Total</th>\n",
       "      <td>10058</td>\n",
       "      <td>10070</td>\n",
       "      <td>10074</td>\n",
       "      <td>10081</td>\n",
       "      <td>10088</td>\n",
       "      <td>10097</td>\n",
       "      <td>10101</td>\n",
       "      <td>10103</td>\n",
       "      <td>10102</td>\n",
       "      <td>10112</td>\n",
       "      <td>100886</td>\n",
       "    </tr>\n",
       "  </tbody>\n",
       "</table>\n",
       "</div>"
      ],
      "text/plain": [
       "cd_faixa_etaria      1      2      3      4  ...      8      9     10   Total\n",
       "in_obstetricia                               ...                             \n",
       "0                 1048   1050   1051   1050  ...   1055   1060   1061   10536\n",
       "1                 9010   9020   9023   9031  ...   9048   9042   9051   90350\n",
       "Total            10058  10070  10074  10081  ...  10103  10102  10112  100886\n",
       "\n",
       "[3 rows x 11 columns]"
      ]
     },
     "execution_count": 111,
     "metadata": {
      "tags": []
     },
     "output_type": "execute_result"
    }
   ],
   "source": [
    "pd.crosstab(index=dfDados['in_obstetricia'], columns=dfDados['cd_faixa_etaria'], margins=True, margins_name=\"Total\")"
   ]
  },
  {
   "cell_type": "code",
   "execution_count": 107,
   "metadata": {
    "colab": {
     "base_uri": "https://localhost:8080/",
     "height": 203
    },
    "id": "SKlH9sQihUNF",
    "outputId": "194ce778-ef95-4797-e5bd-77b9d72f11d5"
   },
   "outputs": [
    {
     "data": {
      "text/html": [
       "<div>\n",
       "<style scoped>\n",
       "    .dataframe tbody tr th:only-of-type {\n",
       "        vertical-align: middle;\n",
       "    }\n",
       "\n",
       "    .dataframe tbody tr th {\n",
       "        vertical-align: top;\n",
       "    }\n",
       "\n",
       "    .dataframe thead th {\n",
       "        text-align: right;\n",
       "    }\n",
       "</style>\n",
       "<table border=\"1\" class=\"dataframe\">\n",
       "  <thead>\n",
       "    <tr style=\"text-align: right;\">\n",
       "      <th>col_0</th>\n",
       "      <th>count</th>\n",
       "    </tr>\n",
       "    <tr>\n",
       "      <th>internacao</th>\n",
       "      <th></th>\n",
       "    </tr>\n",
       "  </thead>\n",
       "  <tbody>\n",
       "    <tr>\n",
       "      <th>Ausente</th>\n",
       "      <td>79396</td>\n",
       "    </tr>\n",
       "    <tr>\n",
       "      <th>Parcial com internação</th>\n",
       "      <td>19341</td>\n",
       "    </tr>\n",
       "    <tr>\n",
       "      <th>Parcial sem internação</th>\n",
       "      <td>1760</td>\n",
       "    </tr>\n",
       "    <tr>\n",
       "      <th>Total</th>\n",
       "      <td>389</td>\n",
       "    </tr>\n",
       "  </tbody>\n",
       "</table>\n",
       "</div>"
      ],
      "text/plain": [
       "col_0                   count\n",
       "internacao                   \n",
       "Ausente                 79396\n",
       "Parcial com internação  19341\n",
       "Parcial sem internação   1760\n",
       "Total                     389"
      ]
     },
     "execution_count": 107,
     "metadata": {
      "tags": []
     },
     "output_type": "execute_result"
    }
   ],
   "source": [
    "pd.crosstab(index=dfDados['internacao'], columns=\"count\")"
   ]
  },
  {
   "cell_type": "code",
   "execution_count": 108,
   "metadata": {
    "colab": {
     "base_uri": "https://localhost:8080/",
     "height": 234
    },
    "id": "vytYg6pohoDv",
    "outputId": "98119b09-fa85-454c-f2b1-31cb5dc0abb5"
   },
   "outputs": [
    {
     "data": {
      "text/html": [
       "<div>\n",
       "<style scoped>\n",
       "    .dataframe tbody tr th:only-of-type {\n",
       "        vertical-align: middle;\n",
       "    }\n",
       "\n",
       "    .dataframe tbody tr th {\n",
       "        vertical-align: top;\n",
       "    }\n",
       "\n",
       "    .dataframe thead th {\n",
       "        text-align: right;\n",
       "    }\n",
       "</style>\n",
       "<table border=\"1\" class=\"dataframe\">\n",
       "  <thead>\n",
       "    <tr style=\"text-align: right;\">\n",
       "      <th>col_0</th>\n",
       "      <th>count</th>\n",
       "    </tr>\n",
       "    <tr>\n",
       "      <th>nm_regiao</th>\n",
       "      <th></th>\n",
       "    </tr>\n",
       "  </thead>\n",
       "  <tbody>\n",
       "    <tr>\n",
       "      <th>Centro-Oeste</th>\n",
       "      <td>10828</td>\n",
       "    </tr>\n",
       "    <tr>\n",
       "      <th>Nordeste</th>\n",
       "      <td>16764</td>\n",
       "    </tr>\n",
       "    <tr>\n",
       "      <th>Norte</th>\n",
       "      <td>7933</td>\n",
       "    </tr>\n",
       "    <tr>\n",
       "      <th>Sudeste</th>\n",
       "      <td>46134</td>\n",
       "    </tr>\n",
       "    <tr>\n",
       "      <th>Sul</th>\n",
       "      <td>19227</td>\n",
       "    </tr>\n",
       "  </tbody>\n",
       "</table>\n",
       "</div>"
      ],
      "text/plain": [
       "col_0         count\n",
       "nm_regiao          \n",
       "Centro-Oeste  10828\n",
       "Nordeste      16764\n",
       "Norte          7933\n",
       "Sudeste       46134\n",
       "Sul           19227"
      ]
     },
     "execution_count": 108,
     "metadata": {
      "tags": []
     },
     "output_type": "execute_result"
    }
   ],
   "source": [
    "pd.crosstab(index=dfDados['nm_regiao'], columns='count')"
   ]
  },
  {
   "cell_type": "code",
   "execution_count": 109,
   "metadata": {
    "colab": {
     "base_uri": "https://localhost:8080/",
     "height": 172
    },
    "id": "dbwj_oRKh68V",
    "outputId": "68918d99-1c41-4622-811e-c2443fa955a3"
   },
   "outputs": [
    {
     "data": {
      "text/html": [
       "<div>\n",
       "<style scoped>\n",
       "    .dataframe tbody tr th:only-of-type {\n",
       "        vertical-align: middle;\n",
       "    }\n",
       "\n",
       "    .dataframe tbody tr th {\n",
       "        vertical-align: top;\n",
       "    }\n",
       "\n",
       "    .dataframe thead th {\n",
       "        text-align: right;\n",
       "    }\n",
       "</style>\n",
       "<table border=\"1\" class=\"dataframe\">\n",
       "  <thead>\n",
       "    <tr style=\"text-align: right;\">\n",
       "      <th>col_0</th>\n",
       "      <th>count</th>\n",
       "    </tr>\n",
       "    <tr>\n",
       "      <th>segmentacao</th>\n",
       "      <th></th>\n",
       "    </tr>\n",
       "  </thead>\n",
       "  <tbody>\n",
       "    <tr>\n",
       "      <th>Ambulatorial</th>\n",
       "      <td>5754</td>\n",
       "    </tr>\n",
       "    <tr>\n",
       "      <th>Ambulatorial e Hospitalar</th>\n",
       "      <td>90712</td>\n",
       "    </tr>\n",
       "    <tr>\n",
       "      <th>Hospitalar</th>\n",
       "      <td>4420</td>\n",
       "    </tr>\n",
       "  </tbody>\n",
       "</table>\n",
       "</div>"
      ],
      "text/plain": [
       "col_0                      count\n",
       "segmentacao                     \n",
       "Ambulatorial                5754\n",
       "Ambulatorial e Hospitalar  90712\n",
       "Hospitalar                  4420"
      ]
     },
     "execution_count": 109,
     "metadata": {
      "tags": []
     },
     "output_type": "execute_result"
    }
   ],
   "source": [
    "pd.crosstab(index=dfDados['segmentacao'], columns=\"count\")"
   ]
  },
  {
   "cell_type": "code",
   "execution_count": 110,
   "metadata": {
    "colab": {
     "base_uri": "https://localhost:8080/",
     "height": 203
    },
    "id": "utIUGIRwiXuM",
    "outputId": "18d18f4e-438d-4013-ce4c-34c205c41dd1"
   },
   "outputs": [
    {
     "data": {
      "text/html": [
       "<div>\n",
       "<style scoped>\n",
       "    .dataframe tbody tr th:only-of-type {\n",
       "        vertical-align: middle;\n",
       "    }\n",
       "\n",
       "    .dataframe tbody tr th {\n",
       "        vertical-align: top;\n",
       "    }\n",
       "\n",
       "    .dataframe thead th {\n",
       "        text-align: right;\n",
       "    }\n",
       "</style>\n",
       "<table border=\"1\" class=\"dataframe\">\n",
       "  <thead>\n",
       "    <tr style=\"text-align: right;\">\n",
       "      <th>nm_regiao</th>\n",
       "      <th>Centro-Oeste</th>\n",
       "      <th>Nordeste</th>\n",
       "      <th>Norte</th>\n",
       "      <th>Sudeste</th>\n",
       "      <th>Sul</th>\n",
       "      <th>Total</th>\n",
       "    </tr>\n",
       "    <tr>\n",
       "      <th>segmentacao</th>\n",
       "      <th></th>\n",
       "      <th></th>\n",
       "      <th></th>\n",
       "      <th></th>\n",
       "      <th></th>\n",
       "      <th></th>\n",
       "    </tr>\n",
       "  </thead>\n",
       "  <tbody>\n",
       "    <tr>\n",
       "      <th>Ambulatorial</th>\n",
       "      <td>280</td>\n",
       "      <td>939</td>\n",
       "      <td>230</td>\n",
       "      <td>2775</td>\n",
       "      <td>1530</td>\n",
       "      <td>5754</td>\n",
       "    </tr>\n",
       "    <tr>\n",
       "      <th>Ambulatorial e Hospitalar</th>\n",
       "      <td>9978</td>\n",
       "      <td>15105</td>\n",
       "      <td>7223</td>\n",
       "      <td>41479</td>\n",
       "      <td>16927</td>\n",
       "      <td>90712</td>\n",
       "    </tr>\n",
       "    <tr>\n",
       "      <th>Hospitalar</th>\n",
       "      <td>570</td>\n",
       "      <td>720</td>\n",
       "      <td>480</td>\n",
       "      <td>1880</td>\n",
       "      <td>770</td>\n",
       "      <td>4420</td>\n",
       "    </tr>\n",
       "    <tr>\n",
       "      <th>Total</th>\n",
       "      <td>10828</td>\n",
       "      <td>16764</td>\n",
       "      <td>7933</td>\n",
       "      <td>46134</td>\n",
       "      <td>19227</td>\n",
       "      <td>100886</td>\n",
       "    </tr>\n",
       "  </tbody>\n",
       "</table>\n",
       "</div>"
      ],
      "text/plain": [
       "nm_regiao                  Centro-Oeste  Nordeste  ...    Sul   Total\n",
       "segmentacao                                        ...               \n",
       "Ambulatorial                        280       939  ...   1530    5754\n",
       "Ambulatorial e Hospitalar          9978     15105  ...  16927   90712\n",
       "Hospitalar                          570       720  ...    770    4420\n",
       "Total                             10828     16764  ...  19227  100886\n",
       "\n",
       "[4 rows x 6 columns]"
      ]
     },
     "execution_count": 110,
     "metadata": {
      "tags": []
     },
     "output_type": "execute_result"
    }
   ],
   "source": [
    "pd.crosstab(index=dfDados['segmentacao'], columns=dfDados['nm_regiao'], margins=True, margins_name=\"Total\")"
   ]
  },
  {
   "cell_type": "code",
   "execution_count": 112,
   "metadata": {
    "colab": {
     "base_uri": "https://localhost:8080/",
     "height": 172
    },
    "id": "dL8270vDjkzM",
    "outputId": "de2de1f3-c720-47df-be08-9cadb301e8e8"
   },
   "outputs": [
    {
     "data": {
      "text/html": [
       "<div>\n",
       "<style scoped>\n",
       "    .dataframe tbody tr th:only-of-type {\n",
       "        vertical-align: middle;\n",
       "    }\n",
       "\n",
       "    .dataframe tbody tr th {\n",
       "        vertical-align: top;\n",
       "    }\n",
       "\n",
       "    .dataframe thead th {\n",
       "        text-align: right;\n",
       "    }\n",
       "</style>\n",
       "<table border=\"1\" class=\"dataframe\">\n",
       "  <thead>\n",
       "    <tr style=\"text-align: right;\">\n",
       "      <th>nm_regiao</th>\n",
       "      <th>Centro-Oeste</th>\n",
       "      <th>Nordeste</th>\n",
       "      <th>Norte</th>\n",
       "      <th>Sudeste</th>\n",
       "      <th>Sul</th>\n",
       "      <th>Total</th>\n",
       "    </tr>\n",
       "    <tr>\n",
       "      <th>contratacao</th>\n",
       "      <th></th>\n",
       "      <th></th>\n",
       "      <th></th>\n",
       "      <th></th>\n",
       "      <th></th>\n",
       "      <th></th>\n",
       "    </tr>\n",
       "  </thead>\n",
       "  <tbody>\n",
       "    <tr>\n",
       "      <th>Coletivo por adesão</th>\n",
       "      <td>7890</td>\n",
       "      <td>11127</td>\n",
       "      <td>6203</td>\n",
       "      <td>26085</td>\n",
       "      <td>11246</td>\n",
       "      <td>62551</td>\n",
       "    </tr>\n",
       "    <tr>\n",
       "      <th>Individual ou familiar</th>\n",
       "      <td>2938</td>\n",
       "      <td>5637</td>\n",
       "      <td>1730</td>\n",
       "      <td>20049</td>\n",
       "      <td>7981</td>\n",
       "      <td>38335</td>\n",
       "    </tr>\n",
       "    <tr>\n",
       "      <th>Total</th>\n",
       "      <td>10828</td>\n",
       "      <td>16764</td>\n",
       "      <td>7933</td>\n",
       "      <td>46134</td>\n",
       "      <td>19227</td>\n",
       "      <td>100886</td>\n",
       "    </tr>\n",
       "  </tbody>\n",
       "</table>\n",
       "</div>"
      ],
      "text/plain": [
       "nm_regiao               Centro-Oeste  Nordeste  Norte  Sudeste    Sul   Total\n",
       "contratacao                                                                  \n",
       "Coletivo por adesão             7890     11127   6203    26085  11246   62551\n",
       "Individual ou familiar          2938      5637   1730    20049   7981   38335\n",
       "Total                          10828     16764   7933    46134  19227  100886"
      ]
     },
     "execution_count": 112,
     "metadata": {
      "tags": []
     },
     "output_type": "execute_result"
    }
   ],
   "source": [
    "pd.crosstab(index=dfDados['contratacao'], columns=dfDados['nm_regiao'], margins=True, margins_name=\"Total\")"
   ]
  }
 ],
 "metadata": {
  "colab": {
   "name": "ResumosEstatisticos.ipynb",
   "provenance": []
  },
  "kernelspec": {
   "display_name": "Python 3 (ipykernel)",
   "language": "python",
   "name": "python3"
  },
  "language_info": {
   "codemirror_mode": {
    "name": "ipython",
    "version": 3
   },
   "file_extension": ".py",
   "mimetype": "text/x-python",
   "name": "python",
   "nbconvert_exporter": "python",
   "pygments_lexer": "ipython3",
   "version": "3.9.6"
  }
 },
 "nbformat": 4,
 "nbformat_minor": 1
}
