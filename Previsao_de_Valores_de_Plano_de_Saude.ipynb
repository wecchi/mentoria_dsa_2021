{
 "cells": [
  {
   "cell_type": "code",
   "execution_count": 14,
   "metadata": {},
   "outputs": [],
   "source": [
    "!pip install -q -U seaborn"
   ]
  },
  {
   "cell_type": "code",
   "execution_count": 50,
   "metadata": {},
   "outputs": [],
   "source": [
    "!pip install -q -U statsmodels"
   ]
  },
  {
   "cell_type": "code",
   "execution_count": 58,
   "metadata": {},
   "outputs": [],
   "source": [
    "!pip install -q -U sklearn"
   ]
  },
  {
   "cell_type": "code",
   "execution_count": 17,
   "metadata": {
    "id": "Y4t0J3c8uyki"
   },
   "outputs": [],
   "source": [
    "#Carregando pacotes\n",
    "import pandas as pd\n",
    "import numpy as np\n",
    "import seaborn as sns\n",
    "from scipy.stats import chi2_contingency\n",
    "from scipy.stats import pearsonr\n",
    "import scipy.stats as stats"
   ]
  },
  {
   "cell_type": "code",
   "execution_count": 8,
   "metadata": {
    "id": "9PCJVT0_wtCF"
   },
   "outputs": [],
   "source": [
    "dados=pd.read_csv(\"..\\DataSets\\dfPrecoMensal_AnoMes.csv\") #dados que o Marcelo mandou por e-mail"
   ]
  },
  {
   "cell_type": "code",
   "execution_count": 9,
   "metadata": {
    "id": "IQrJltzGzLH1"
   },
   "outputs": [
    {
     "data": {
      "text/plain": [
       "(1582482, 13)"
      ]
     },
     "execution_count": 9,
     "metadata": {},
     "output_type": "execute_result"
    }
   ],
   "source": [
    "dados.shape"
   ]
  },
  {
   "cell_type": "code",
   "execution_count": 19,
   "metadata": {
    "id": "oyjpr59dzNSU"
   },
   "outputs": [],
   "source": [
    "df = dados.dropna()"
   ]
  },
  {
   "cell_type": "code",
   "execution_count": 11,
   "metadata": {
    "id": "RedJ9JTNzQyu"
   },
   "outputs": [
    {
     "data": {
      "text/plain": [
       "(1582482, 13)"
      ]
     },
     "execution_count": 11,
     "metadata": {},
     "output_type": "execute_result"
    }
   ],
   "source": [
    "df.shape"
   ]
  },
  {
   "cell_type": "code",
   "execution_count": 20,
   "metadata": {
    "id": "qwJ-xcBp3Rm1"
   },
   "outputs": [],
   "source": [
    "#dividindo ano_mes em 2 colunas\n",
    "df[['ano', 'mes']] = df['ano_mes'].str.split('-', 1, expand=True)"
   ]
  },
  {
   "cell_type": "code",
   "execution_count": 21,
   "metadata": {
    "id": "6wrIOFyJwx2g"
   },
   "outputs": [
    {
     "data": {
      "text/plain": [
       "<AxesSubplot:xlabel='mensalidade'>"
      ]
     },
     "execution_count": 21,
     "metadata": {},
     "output_type": "execute_result"
    },
    {
     "data": {
      "image/png": "[encoded data removed]",
      "text/plain": [
       "<Figure size 432x288 with 1 Axes>"
      ]
     },
     "metadata": {
      "needs_background": "light"
     },
     "output_type": "display_data"
    }
   ],
   "source": [
    "#OUTLIERS\n",
    "sns.boxplot(x=df['mensalidade'])"
   ]
  },
  {
   "cell_type": "code",
   "execution_count": 22,
   "metadata": {
    "id": "CcNHeO5XxTZD"
   },
   "outputs": [
    {
     "name": "stdout",
     "output_type": "stream",
     "text": [
      "0          0.477789\n",
      "1          0.454994\n",
      "2          0.409419\n",
      "3          0.341050\n",
      "4          0.249900\n",
      "             ...   \n",
      "1582477    0.592151\n",
      "1582478    0.407780\n",
      "1582479    0.129109\n",
      "1582480    0.028798\n",
      "1582481    0.347580\n",
      "Name: z, Length: 1582482, dtype: float64\n"
     ]
    }
   ],
   "source": [
    "#criando z-score para remocao de outliers\n",
    "df[\"z\"]=np.abs(stats.zscore(df['mensalidade']))\n",
    "print(df[\"z\"])"
   ]
  },
  {
   "cell_type": "code",
   "execution_count": 31,
   "metadata": {},
   "outputs": [
    {
     "data": {
      "text/plain": [
       "count    1.553814e+06\n",
       "mean     4.100471e+02\n",
       "std      3.303408e+02\n",
       "min      1.190000e+01\n",
       "25%      1.811390e+02\n",
       "50%      3.060260e+02\n",
       "75%      5.270072e+02\n",
       "max      1.914346e+03\n",
       "Name: mensalidade, dtype: float64"
      ]
     },
     "execution_count": 31,
     "metadata": {},
     "output_type": "execute_result"
    }
   ],
   "source": [
    "df[(df[\"z\"] < 3)][\"mensalidade\"].describe()"
   ]
  },
  {
   "cell_type": "code",
   "execution_count": 23,
   "metadata": {
    "id": "tHSiC5Vm3eNn"
   },
   "outputs": [],
   "source": [
    "#Removendo outliers\n",
    "df_filtrado=df[(df[\"z\"] < 3)]\n",
    "df_filtrado=df_filtrado[(df_filtrado[\"mensalidade\"] < 900)]"
   ]
  },
  {
   "cell_type": "code",
   "execution_count": 32,
   "metadata": {
    "id": "2DM18uDS3rm4"
   },
   "outputs": [
    {
     "data": {
      "text/plain": [
       "<AxesSubplot:xlabel='mensalidade'>"
      ]
     },
     "execution_count": 32,
     "metadata": {},
     "output_type": "execute_result"
    },
    {
     "data": {
      "image/png": "[encoded data removed]",
      "text/plain": [
       "<Figure size 432x288 with 1 Axes>"
      ]
     },
     "metadata": {
      "needs_background": "light"
     },
     "output_type": "display_data"
    }
   ],
   "source": [
    "#Verificando Outliers\n",
    "sns.boxplot(x=df_filtrado['mensalidade'])"
   ]
  },
  {
   "cell_type": "code",
   "execution_count": 33,
   "metadata": {
    "id": "N75qaXzO39qb"
   },
   "outputs": [],
   "source": [
    "#Aplicando o log\n",
    "df_filtrado[\"logy\"]=np.log(df_filtrado[\"mensalidade\"])"
   ]
  },
  {
   "cell_type": "code",
   "execution_count": 34,
   "metadata": {
    "id": "3_bW2P7t5_3L"
   },
   "outputs": [
    {
     "data": {
      "text/plain": [
       "count    1.414914e+06\n",
       "mean     5.594922e+00\n",
       "std      6.701609e-01\n",
       "min      2.476538e+00\n",
       "25%      5.142786e+00\n",
       "50%      5.638109e+00\n",
       "75%      6.107025e+00\n",
       "max      6.802360e+00\n",
       "Name: logy, dtype: float64"
      ]
     },
     "execution_count": 34,
     "metadata": {},
     "output_type": "execute_result"
    }
   ],
   "source": [
    "df_filtrado[\"logy\"].describe()"
   ]
  },
  {
   "cell_type": "code",
   "execution_count": 35,
   "metadata": {
    "id": "h2KGpWKy4B-x"
   },
   "outputs": [
    {
     "data": {
      "text/plain": [
       "<AxesSubplot:xlabel='logy'>"
      ]
     },
     "execution_count": 35,
     "metadata": {},
     "output_type": "execute_result"
    },
    {
     "data": {
      "image/png": "[encoded data removed]",
      "text/plain": [
       "<Figure size 432x288 with 1 Axes>"
      ]
     },
     "metadata": {
      "needs_background": "light"
     },
     "output_type": "display_data"
    }
   ],
   "source": [
    "#OUTLIERS\n",
    "sns.boxplot(x=df_filtrado['logy'])"
   ]
  },
  {
   "cell_type": "code",
   "execution_count": 36,
   "metadata": {
    "id": "q6KmsmAFwqNt"
   },
   "outputs": [
    {
     "data": {
      "text/plain": [
       "<AxesSubplot:xlabel='mensalidade'>"
      ]
     },
     "execution_count": 36,
     "metadata": {},
     "output_type": "execute_result"
    },
    {
     "data": {
      "image/png": "[encoded data removed]",
      "text/plain": [
       "<Figure size 432x288 with 1 Axes>"
      ]
     },
     "metadata": {
      "needs_background": "light"
     },
     "output_type": "display_data"
    }
   ],
   "source": [
    "#OUTLIERS\n",
    "sns.boxplot(x=df_filtrado['mensalidade'])"
   ]
  },
  {
   "cell_type": "code",
   "execution_count": null,
   "metadata": {
    "id": "p0sIZ0YHxNxi"
   },
   "outputs": [],
   "source": [
    "#Removendo outliers com base no \"z\"\n",
    "df_filtrado=df[(df[\"z\"] >= 3.5)]\n",
    "df_filtrado=df_filtrado[(df_filtrado[\"mensalidade\"] < 850)]"
   ]
  },
  {
   "cell_type": "code",
   "execution_count": null,
   "metadata": {
    "id": "1JkhL4TIzQ-i"
   },
   "outputs": [],
   "source": [
    "#df_filtrado=df_filtrado[(df_filtrado[\"logy\"] > 3.5)]"
   ]
  },
  {
   "cell_type": "code",
   "execution_count": 37,
   "metadata": {
    "id": "m4r4w4Ll2Nfg"
   },
   "outputs": [],
   "source": [
    "df_filtrado[\"logy\"]=np.log(df_filtrado[\"mensalidade\"])"
   ]
  },
  {
   "cell_type": "code",
   "execution_count": 38,
   "metadata": {
    "id": "kmFXrW2G4SZJ"
   },
   "outputs": [
    {
     "data": {
      "text/plain": [
       "<AxesSubplot:xlabel='logy'>"
      ]
     },
     "execution_count": 38,
     "metadata": {},
     "output_type": "execute_result"
    },
    {
     "data": {
      "image/png": "[encoded data removed]",
      "text/plain": [
       "<Figure size 432x288 with 1 Axes>"
      ]
     },
     "metadata": {
      "needs_background": "light"
     },
     "output_type": "display_data"
    }
   ],
   "source": [
    "#Checando mais outliers\n",
    "sns.boxplot(x=df_filtrado['logy'])"
   ]
  },
  {
   "cell_type": "code",
   "execution_count": 39,
   "metadata": {
    "id": "Oqt9agsWyQEX"
   },
   "outputs": [
    {
     "data": {
      "text/plain": [
       "<AxesSubplot:xlabel='z'>"
      ]
     },
     "execution_count": 39,
     "metadata": {},
     "output_type": "execute_result"
    },
    {
     "data": {
      "image/png": "[encoded data removed]",
      "text/plain": [
       "<Figure size 432x288 with 1 Axes>"
      ]
     },
     "metadata": {
      "needs_background": "light"
     },
     "output_type": "display_data"
    }
   ],
   "source": [
    "#Checando mais outliers\n",
    "sns.boxplot(x=df_filtrado['z'])"
   ]
  },
  {
   "cell_type": "code",
   "execution_count": 40,
   "metadata": {
    "id": "R94BMU9s5A27"
   },
   "outputs": [],
   "source": [
    "data=df_filtrado"
   ]
  },
  {
   "cell_type": "code",
   "execution_count": 43,
   "metadata": {
    "id": "oWpLpDSWvPZm"
   },
   "outputs": [
    {
     "data": {
      "text/plain": [
       "Index(['ano_mes', 'contratacao', 'segmentacao', 'in_odonto', 'in_obstetricia',\n",
       "       'tipo', 'abrangencia', 'fator', 'acomodacao', 'internacao',\n",
       "       'cd_faixa_etaria', 'nm_regiao', 'mensalidade', 'z', 'ano', 'mes',\n",
       "       'logy'],\n",
       "      dtype='object')"
      ]
     },
     "execution_count": 43,
     "metadata": {},
     "output_type": "execute_result"
    }
   ],
   "source": [
    "data.columns"
   ]
  },
  {
   "cell_type": "code",
   "execution_count": 42,
   "metadata": {},
   "outputs": [
    {
     "data": {
      "text/plain": [
       "ano_mes             object\n",
       "contratacao         object\n",
       "segmentacao         object\n",
       "in_odonto            int64\n",
       "in_obstetricia       int64\n",
       "tipo                object\n",
       "abrangencia         object\n",
       "fator               object\n",
       "acomodacao          object\n",
       "internacao          object\n",
       "cd_faixa_etaria      int64\n",
       "nm_regiao           object\n",
       "mensalidade        float64\n",
       "z                  float64\n",
       "ano                 object\n",
       "mes                 object\n",
       "logy               float64\n",
       "dtype: object"
      ]
     },
     "execution_count": 42,
     "metadata": {},
     "output_type": "execute_result"
    }
   ],
   "source": [
    "data.dtypes"
   ]
  },
  {
   "cell_type": "code",
   "execution_count": 44,
   "metadata": {
    "id": "aA-2pEo72Xxu"
   },
   "outputs": [],
   "source": [
    "df_filtrado[\"ano\"]=df_filtrado[\"ano\"].astype('int64')"
   ]
  },
  {
   "cell_type": "code",
   "execution_count": 45,
   "metadata": {
    "id": "6qJgN92W2vvo"
   },
   "outputs": [
    {
     "data": {
      "text/plain": [
       "(1414914, 17)"
      ]
     },
     "execution_count": 45,
     "metadata": {},
     "output_type": "execute_result"
    }
   ],
   "source": [
    "df_filtrado.shape"
   ]
  },
  {
   "cell_type": "markdown",
   "metadata": {
    "id": "u7QwxMH42Tko"
   },
   "source": []
  },
  {
   "cell_type": "code",
   "execution_count": 46,
   "metadata": {
    "id": "3_GVpSjk5EiV"
   },
   "outputs": [],
   "source": [
    "#Tranformando para dummies e removendo variaveis redundantes\n",
    "data=df_filtrado\n",
    "cat_vars=[\"ano\",\"mes\",'contratacao','segmentacao','in_obstetricia','abrangencia',\n",
    "          'fator','acomodacao','internacao',\"cd_faixa_etaria\",\"nm_regiao\"]\n",
    "for var in cat_vars:\n",
    "    cat_list='var'+'_'+ var\n",
    "    cat_list = pd.get_dummies(data[var], prefix=var)\n",
    "    data1=data.join(cat_list)\n",
    "    data=data1\n",
    "\n",
    "data_vars=data.columns.values.tolist()\n",
    "to_keep=[i for i in data_vars if i not in cat_vars]"
   ]
  },
  {
   "cell_type": "code",
   "execution_count": 47,
   "metadata": {
    "scrolled": true
   },
   "outputs": [
    {
     "data": {
      "text/plain": [
       "['ano_mes',\n",
       " 'in_odonto',\n",
       " 'tipo',\n",
       " 'mensalidade',\n",
       " 'z',\n",
       " 'logy',\n",
       " 'ano_2015',\n",
       " 'ano_2016',\n",
       " 'ano_2017',\n",
       " 'ano_2018',\n",
       " 'ano_2019',\n",
       " 'ano_2020',\n",
       " 'mes_01',\n",
       " 'mes_02',\n",
       " 'mes_03',\n",
       " 'mes_04',\n",
       " 'mes_05',\n",
       " 'mes_06',\n",
       " 'mes_07',\n",
       " 'mes_08',\n",
       " 'mes_09',\n",
       " 'mes_10',\n",
       " 'mes_11',\n",
       " 'mes_12',\n",
       " 'contratacao_Coletivo por adesão',\n",
       " 'contratacao_Individual ou familiar',\n",
       " 'segmentacao_Ambulatorial',\n",
       " 'segmentacao_Ambulatorial e Hospitalar',\n",
       " 'segmentacao_Hospitalar',\n",
       " 'in_obstetricia_0',\n",
       " 'in_obstetricia_1',\n",
       " 'abrangencia_Estadual',\n",
       " 'abrangencia_Grupo de estados',\n",
       " 'abrangencia_Grupo de municípios',\n",
       " 'abrangencia_Municipal',\n",
       " 'abrangencia_Nacional',\n",
       " 'fator_Ausente',\n",
       " 'fator_Co-participação',\n",
       " 'fator_Franquia',\n",
       " 'fator_Franquia + Co-participação',\n",
       " 'acomodacao_Coletiva',\n",
       " 'acomodacao_Individual',\n",
       " 'acomodacao_Não identificado',\n",
       " 'acomodacao_Não se aplica',\n",
       " 'internacao_Ausente',\n",
       " 'internacao_Parcial com internação',\n",
       " 'internacao_Parcial sem internação',\n",
       " 'internacao_Total',\n",
       " 'cd_faixa_etaria_1',\n",
       " 'cd_faixa_etaria_2',\n",
       " 'cd_faixa_etaria_3',\n",
       " 'cd_faixa_etaria_4',\n",
       " 'cd_faixa_etaria_5',\n",
       " 'cd_faixa_etaria_6',\n",
       " 'cd_faixa_etaria_7',\n",
       " 'cd_faixa_etaria_8',\n",
       " 'cd_faixa_etaria_9',\n",
       " 'cd_faixa_etaria_10',\n",
       " 'nm_regiao_Centro-Oeste',\n",
       " 'nm_regiao_Nordeste',\n",
       " 'nm_regiao_Norte',\n",
       " 'nm_regiao_Sudeste',\n",
       " 'nm_regiao_Sul']"
      ]
     },
     "execution_count": 47,
     "metadata": {},
     "output_type": "execute_result"
    }
   ],
   "source": [
    "to_keep"
   ]
  },
  {
   "cell_type": "code",
   "execution_count": 48,
   "metadata": {
    "id": "4quWyMec5Vex"
   },
   "outputs": [],
   "source": [
    "data_final=data[to_keep]\n",
    "data_final.columns.values\n",
    "#del data_final[\"in_obstetricia_0\"]\n",
    "#del data_final[\"contratacao_Coletivo por adesão\"]\n",
    "del data_final[\"ano_mes\"]\n",
    "del data_final[\"z\"]\n",
    "del data_final[\"mensalidade\"]\n",
    "del data_final[\"tipo\"]"
   ]
  },
  {
   "cell_type": "code",
   "execution_count": 51,
   "metadata": {
    "id": "Pv2VUTkO4rqK"
   },
   "outputs": [],
   "source": [
    "# Import library for VIF\n",
    "from statsmodels.stats.outliers_influence import variance_inflation_factor\n",
    "\n",
    "def calc_vif(X):\n",
    "\n",
    "    # Calculating VIF\n",
    "    vif = pd.DataFrame()\n",
    "    vif[\"variables\"] = X.columns\n",
    "    vif[\"VIF\"] = [variance_inflation_factor(X.values, i) for i in range(X.shape[1])]\n",
    "\n",
    "    return(vif)"
   ]
  },
  {
   "cell_type": "code",
   "execution_count": 52,
   "metadata": {
    "id": "XqcSimsS9f5e"
   },
   "outputs": [],
   "source": [
    "#Gerando uma amostra\n",
    "data_final2=data_final.sample(10000)"
   ]
  },
  {
   "cell_type": "code",
   "execution_count": 53,
   "metadata": {
    "id": "pHyBMVjf9q0l"
   },
   "outputs": [],
   "source": [
    "#separando em variaveis target e preditoras\n",
    "x=data_final2.drop(\"logy\",axis=1)\n",
    "y=data_final2[\"logy\"]"
   ]
  },
  {
   "cell_type": "code",
   "execution_count": 54,
   "metadata": {},
   "outputs": [],
   "source": [
    "cols_drop = [\"cd_faixa_etaria_1\",\"fator_Ausente\",\"ano_2019\",\"internacao_Ausente\",\"abrangencia_Nacional\",\n",
    "             \"in_obstetricia_1\",\"abrangencia_Grupo de municípios\",\"segmentacao_Ambulatorial e Hospitalar\",\n",
    "             \"abrangencia_Grupo de estados\",'ano_2015',\"mes_01\",'fator_Franquia','acomodacao_Individual',\n",
    "             'fator_Franquia + Co-participação',\"acomodacao_Coletiva\",\"acomodacao_Não identificado\",\n",
    "             \"acomodacao_Não se aplica\",\"acomodacao_Não identificado\",\"internacao_Parcial com internação\",\n",
    "             \"internacao_Parcial sem internação\",\"cd_faixa_etaria_10\",\"nm_regiao_Norte\"]"
   ]
  },
  {
   "cell_type": "code",
   "execution_count": 55,
   "metadata": {
    "id": "S_xY-1fF6miU"
   },
   "outputs": [
    {
     "data": {
      "text/html": [
       "<div>\n",
       "<style scoped>\n",
       "    .dataframe tbody tr th:only-of-type {\n",
       "        vertical-align: middle;\n",
       "    }\n",
       "\n",
       "    .dataframe tbody tr th {\n",
       "        vertical-align: top;\n",
       "    }\n",
       "\n",
       "    .dataframe thead th {\n",
       "        text-align: right;\n",
       "    }\n",
       "</style>\n",
       "<table border=\"1\" class=\"dataframe\">\n",
       "  <thead>\n",
       "    <tr style=\"text-align: right;\">\n",
       "      <th></th>\n",
       "      <th>variables</th>\n",
       "      <th>VIF</th>\n",
       "    </tr>\n",
       "  </thead>\n",
       "  <tbody>\n",
       "    <tr>\n",
       "      <th>0</th>\n",
       "      <td>in_odonto</td>\n",
       "      <td>1.011771</td>\n",
       "    </tr>\n",
       "    <tr>\n",
       "      <th>1</th>\n",
       "      <td>ano_2016</td>\n",
       "      <td>1.109120</td>\n",
       "    </tr>\n",
       "    <tr>\n",
       "      <th>2</th>\n",
       "      <td>ano_2017</td>\n",
       "      <td>1.157238</td>\n",
       "    </tr>\n",
       "    <tr>\n",
       "      <th>3</th>\n",
       "      <td>ano_2018</td>\n",
       "      <td>1.244197</td>\n",
       "    </tr>\n",
       "    <tr>\n",
       "      <th>4</th>\n",
       "      <td>ano_2020</td>\n",
       "      <td>1.717343</td>\n",
       "    </tr>\n",
       "    <tr>\n",
       "      <th>5</th>\n",
       "      <td>mes_02</td>\n",
       "      <td>1.846959</td>\n",
       "    </tr>\n",
       "    <tr>\n",
       "      <th>6</th>\n",
       "      <td>mes_03</td>\n",
       "      <td>1.869985</td>\n",
       "    </tr>\n",
       "    <tr>\n",
       "      <th>7</th>\n",
       "      <td>mes_04</td>\n",
       "      <td>1.943646</td>\n",
       "    </tr>\n",
       "    <tr>\n",
       "      <th>8</th>\n",
       "      <td>mes_05</td>\n",
       "      <td>2.000454</td>\n",
       "    </tr>\n",
       "    <tr>\n",
       "      <th>9</th>\n",
       "      <td>mes_06</td>\n",
       "      <td>2.063389</td>\n",
       "    </tr>\n",
       "    <tr>\n",
       "      <th>10</th>\n",
       "      <td>mes_07</td>\n",
       "      <td>2.119807</td>\n",
       "    </tr>\n",
       "    <tr>\n",
       "      <th>11</th>\n",
       "      <td>mes_08</td>\n",
       "      <td>1.694655</td>\n",
       "    </tr>\n",
       "    <tr>\n",
       "      <th>12</th>\n",
       "      <td>mes_09</td>\n",
       "      <td>1.697963</td>\n",
       "    </tr>\n",
       "    <tr>\n",
       "      <th>13</th>\n",
       "      <td>mes_10</td>\n",
       "      <td>1.720476</td>\n",
       "    </tr>\n",
       "    <tr>\n",
       "      <th>14</th>\n",
       "      <td>mes_11</td>\n",
       "      <td>1.811516</td>\n",
       "    </tr>\n",
       "    <tr>\n",
       "      <th>15</th>\n",
       "      <td>mes_12</td>\n",
       "      <td>1.870702</td>\n",
       "    </tr>\n",
       "    <tr>\n",
       "      <th>16</th>\n",
       "      <td>contratacao_Coletivo por adesão</td>\n",
       "      <td>20.481753</td>\n",
       "    </tr>\n",
       "    <tr>\n",
       "      <th>17</th>\n",
       "      <td>contratacao_Individual ou familiar</td>\n",
       "      <td>12.042683</td>\n",
       "    </tr>\n",
       "    <tr>\n",
       "      <th>18</th>\n",
       "      <td>segmentacao_Ambulatorial</td>\n",
       "      <td>2.066780</td>\n",
       "    </tr>\n",
       "    <tr>\n",
       "      <th>19</th>\n",
       "      <td>segmentacao_Hospitalar</td>\n",
       "      <td>1.011417</td>\n",
       "    </tr>\n",
       "    <tr>\n",
       "      <th>20</th>\n",
       "      <td>in_obstetricia_0</td>\n",
       "      <td>2.113108</td>\n",
       "    </tr>\n",
       "    <tr>\n",
       "      <th>21</th>\n",
       "      <td>abrangencia_Estadual</td>\n",
       "      <td>1.044390</td>\n",
       "    </tr>\n",
       "    <tr>\n",
       "      <th>22</th>\n",
       "      <td>abrangencia_Municipal</td>\n",
       "      <td>1.054295</td>\n",
       "    </tr>\n",
       "    <tr>\n",
       "      <th>23</th>\n",
       "      <td>fator_Co-participação</td>\n",
       "      <td>1.046618</td>\n",
       "    </tr>\n",
       "    <tr>\n",
       "      <th>24</th>\n",
       "      <td>internacao_Total</td>\n",
       "      <td>1.007787</td>\n",
       "    </tr>\n",
       "    <tr>\n",
       "      <th>25</th>\n",
       "      <td>cd_faixa_etaria_2</td>\n",
       "      <td>1.462375</td>\n",
       "    </tr>\n",
       "    <tr>\n",
       "      <th>26</th>\n",
       "      <td>cd_faixa_etaria_3</td>\n",
       "      <td>1.468124</td>\n",
       "    </tr>\n",
       "    <tr>\n",
       "      <th>27</th>\n",
       "      <td>cd_faixa_etaria_4</td>\n",
       "      <td>1.463060</td>\n",
       "    </tr>\n",
       "    <tr>\n",
       "      <th>28</th>\n",
       "      <td>cd_faixa_etaria_5</td>\n",
       "      <td>1.457772</td>\n",
       "    </tr>\n",
       "    <tr>\n",
       "      <th>29</th>\n",
       "      <td>cd_faixa_etaria_6</td>\n",
       "      <td>1.472295</td>\n",
       "    </tr>\n",
       "    <tr>\n",
       "      <th>30</th>\n",
       "      <td>cd_faixa_etaria_7</td>\n",
       "      <td>1.428558</td>\n",
       "    </tr>\n",
       "    <tr>\n",
       "      <th>31</th>\n",
       "      <td>cd_faixa_etaria_8</td>\n",
       "      <td>1.438447</td>\n",
       "    </tr>\n",
       "    <tr>\n",
       "      <th>32</th>\n",
       "      <td>cd_faixa_etaria_9</td>\n",
       "      <td>1.365470</td>\n",
       "    </tr>\n",
       "    <tr>\n",
       "      <th>33</th>\n",
       "      <td>nm_regiao_Centro-Oeste</td>\n",
       "      <td>2.087029</td>\n",
       "    </tr>\n",
       "    <tr>\n",
       "      <th>34</th>\n",
       "      <td>nm_regiao_Nordeste</td>\n",
       "      <td>2.170425</td>\n",
       "    </tr>\n",
       "    <tr>\n",
       "      <th>35</th>\n",
       "      <td>nm_regiao_Sudeste</td>\n",
       "      <td>3.386578</td>\n",
       "    </tr>\n",
       "    <tr>\n",
       "      <th>36</th>\n",
       "      <td>nm_regiao_Sul</td>\n",
       "      <td>2.438724</td>\n",
       "    </tr>\n",
       "  </tbody>\n",
       "</table>\n",
       "</div>"
      ],
      "text/plain": [
       "                             variables        VIF\n",
       "0                            in_odonto   1.011771\n",
       "1                             ano_2016   1.109120\n",
       "2                             ano_2017   1.157238\n",
       "3                             ano_2018   1.244197\n",
       "4                             ano_2020   1.717343\n",
       "5                               mes_02   1.846959\n",
       "6                               mes_03   1.869985\n",
       "7                               mes_04   1.943646\n",
       "8                               mes_05   2.000454\n",
       "9                               mes_06   2.063389\n",
       "10                              mes_07   2.119807\n",
       "11                              mes_08   1.694655\n",
       "12                              mes_09   1.697963\n",
       "13                              mes_10   1.720476\n",
       "14                              mes_11   1.811516\n",
       "15                              mes_12   1.870702\n",
       "16     contratacao_Coletivo por adesão  20.481753\n",
       "17  contratacao_Individual ou familiar  12.042683\n",
       "18            segmentacao_Ambulatorial   2.066780\n",
       "19              segmentacao_Hospitalar   1.011417\n",
       "20                    in_obstetricia_0   2.113108\n",
       "21                abrangencia_Estadual   1.044390\n",
       "22               abrangencia_Municipal   1.054295\n",
       "23               fator_Co-participação   1.046618\n",
       "24                    internacao_Total   1.007787\n",
       "25                   cd_faixa_etaria_2   1.462375\n",
       "26                   cd_faixa_etaria_3   1.468124\n",
       "27                   cd_faixa_etaria_4   1.463060\n",
       "28                   cd_faixa_etaria_5   1.457772\n",
       "29                   cd_faixa_etaria_6   1.472295\n",
       "30                   cd_faixa_etaria_7   1.428558\n",
       "31                   cd_faixa_etaria_8   1.438447\n",
       "32                   cd_faixa_etaria_9   1.365470\n",
       "33              nm_regiao_Centro-Oeste   2.087029\n",
       "34                  nm_regiao_Nordeste   2.170425\n",
       "35                   nm_regiao_Sudeste   3.386578\n",
       "36                       nm_regiao_Sul   2.438724"
      ]
     },
     "execution_count": 55,
     "metadata": {},
     "output_type": "execute_result"
    }
   ],
   "source": [
    "X = x.drop(cols_drop,axis=1)\n",
    "calc_vif(X)"
   ]
  },
  {
   "cell_type": "code",
   "execution_count": 56,
   "metadata": {
    "id": "9KXNfizE8SsS"
   },
   "outputs": [],
   "source": [
    "x= x.drop(cols_drop, axis=1)"
   ]
  },
  {
   "cell_type": "code",
   "execution_count": 59,
   "metadata": {
    "id": "FCnltdZE90jZ"
   },
   "outputs": [
    {
     "name": "stdout",
     "output_type": "stream",
     "text": [
      "0.3314418401742005\n"
     ]
    }
   ],
   "source": [
    "#testando modelo SVM\n",
    "from sklearn.svm import SVR\n",
    "from sklearn.preprocessing import MinMaxScaler\n",
    "from sklearn.model_selection import cross_val_score\n",
    "from sklearn.model_selection import KFold\n",
    "\n",
    "#Normalizando os dados as variaveis preditoras\n",
    "normalizador=MinMaxScaler(feature_range=(0,1))\n",
    "x_norm=normalizador.fit_transform(x)\n",
    "\n",
    "#Criacao do modelo\n",
    "modelo=SVR()# VALORES DEFEL, KERNEL RBF, GAMMA SOH VALE PARA ALGUNS, C=1, O EPSON=0.1 TEM A REGRESSAO QUE EH O TAMANHO DO CANAL\n",
    "kfold=KFold(n_splits=3)\n",
    "resultado=cross_val_score(modelo,x_norm,y,cv=kfold,n_jobs=-1)\n",
    "print(resultado.mean())"
   ]
  },
  {
   "cell_type": "code",
   "execution_count": null,
   "metadata": {
    "id": "QLi-BzqM94iJ"
   },
   "outputs": [],
   "source": [
    "#tunning da SVM\n",
    "from sklearn.model_selection import GridSearchCV\n",
    "from sklearn.model_selection import KFold\n",
    "#Definindo valores que serao testados na SVR\n",
    "c=np.array([1.0,0.95,1.05,1.1,1.2,1.5,2,0.9,0.8]) # constante de regularizacao, testar maiores e menores que o default, se der extremos, varias mais\n",
    "kernel=[\"linear\",\"poly\",\"rbf\",\"sigmoid\"]\n",
    "polinomio=np.array([2,3,4]) # soh serao usados para kernel polinomio, para  o resto serao ignorados\n",
    "epsilon=np.array([0.1,0.2,0.05,0.03,0.02,0.01,0.005])\n",
    "valores_grid={\"C\":c,\"kernel\":kernel,\"degree\":polinomio,\"epsilon\": epsilon}\n",
    "\n",
    "#Criacao do modelo\n",
    "modelo=SVR()\n",
    "\n",
    "#Criando os grids\n",
    "kfold=KFold(n_splits=3,shuffle=True)# sempre importante e faz toda diferenca\n",
    "gridSVM=GridSearchCV(estimator=modelo,param_grid=valores_grid,cv=kfold,n_jobs=-1)\n",
    "gridSVM.fit(x_norm,y)\n",
    "#Imprimindo melhores parametros\n",
    "print(\"Melhor valor constante de regularizacao: \", gridSVM.best_estimator_.C)\n",
    "print(\"Melhor KERNEL: \", gridSVM.best_estimator_.kernel)\n",
    "print(\"Melhor grau polinomio: \", gridSVM.best_estimator_.degree)\n",
    "print(\"Melhor valor epsilon: \", gridSVM.best_estimator_.epsilon)\n",
    "print(\"R2: \",gridSVM.best_score_)"
   ]
  },
  {
   "cell_type": "code",
   "execution_count": null,
   "metadata": {
    "id": "h0ngHpED-w-a"
   },
   "outputs": [],
   "source": [
    "#Testando regressoes com regularizacoes\n",
    "#Separando em treino e teste\n",
    "from sklearn.linear_model import LinearRegression\n",
    "from sklearn.model_selection import train_test_split\n",
    "x_treino,x_teste,y_treino,y_teste = train_test_split(x,y, test_size=0.30,random_state=14) "
   ]
  },
  {
   "cell_type": "code",
   "execution_count": null,
   "metadata": {
    "id": "K0QPz6G2_PO-"
   },
   "outputs": [],
   "source": [
    "def modeloregressao(a,b,c,d):\n",
    "  from sklearn.linear_model import LinearRegression\n",
    "  from sklearn.linear_model import Ridge\n",
    "  from sklearn.linear_model import Lasso\n",
    "  from sklearn.linear_model import ElasticNet\n",
    "  x_treino=a\n",
    "  y_treino=b\n",
    "  x_teste=c\n",
    "  y_teste=d\n",
    "  reg=LinearRegression()\n",
    "  ridge=Ridge()\n",
    "  lasso=Lasso()\n",
    "  elastic=ElasticNet()\n",
    "  reg.fit(x_treino,y_treino)\n",
    "  ridge.fit(x_treino,y_treino)\n",
    "  lasso.fit(x_treino,y_treino)\n",
    "  elastic.fit(x_treino,y_treino)\n",
    "  resul_reg=reg.score(x_teste, y_teste)\n",
    "  resul_ridge=ridge.score(x_teste, y_teste)\n",
    "  resul_lasso=lasso.score(x_teste, y_teste)\n",
    "  resul_elastic=elastic.score(x_teste, y_teste)\n",
    "  dic_regmodels={'Linear':resul_reg,'Ridge':resul_ridge,'Lasso':resul_lasso,'Elastic':resul_elastic}\n",
    "  melhor_modelo=max(dic_regmodels,key=dic_regmodels.get) # o paramentro get define o criterio do valor maximo, o .get pega os valores do dicionario\n",
    "  print('Regressao Linear:',resul_reg,'Regressao Ridge:',resul_ridge,'Regressao Lasso:',resul_lasso,'Regressao Elastic:',resul_elastic)\n",
    "  print('O melhor modelo foi:',melhor_modelo,'com o valor:',dic_regmodels[melhor_modelo])"
   ]
  },
  {
   "cell_type": "code",
   "execution_count": null,
   "metadata": {
    "id": "F_q-_2IG_Rb1"
   },
   "outputs": [],
   "source": [
    "modeloregressao(x_treino,y_treino,x_teste,y_teste)"
   ]
  },
  {
   "cell_type": "code",
   "execution_count": null,
   "metadata": {
    "id": "9DZ1xB2M_z9f"
   },
   "outputs": [],
   "source": [
    "#Definindo os valores que serao testados\n",
    "#o RandomizedSearchCV cv vai pegar os melhores  valores das combinacoes abaixo, MAS ALEATORIOS, ELE NAO TESTA TODOS .. ESSA EH A DIFERENCA QUANTO AO GRIDSEARCHCV\n",
    "valores={'alpha':[0.1,0.5,1,2,5,10,25,50,80,90,95,99,100,110,112,115,125,150,200,300,500,750,1000,2000,3000,5000]}"
   ]
  },
  {
   "cell_type": "code",
   "execution_count": null,
   "metadata": {
    "id": "yuTVOrWN_1Me"
   },
   "outputs": [],
   "source": [
    "#CrIando o modelo\n",
    "#Custo computacional muito alto\n",
    "from sklearn.linear_model import Ridge\n",
    "from sklearn.model_selection import GridSearchCV\n",
    "modelo= Ridge()\n",
    "procura=GridSearchCV(estimator=modelo,param_grid=valores,cv=5)# nao precisamos setra o numero de itracoes pois ele vai testar tudo\n",
    "procura.fit(x,y)\n",
    "# ela usa o kfold padrao, e se for classificacao ja usa o stratified kfold\n",
    "#Imprimindo o resultado\n",
    "print ('Melhor Score:',procura.best_score_)\n",
    "print ('Melhor Alpha:',procura.best_estimator_.alpha)\n"
   ]
  },
  {
   "cell_type": "code",
   "execution_count": null,
   "metadata": {
    "id": "ehGV8LC8AF4u"
   },
   "outputs": [],
   "source": [
    "##Testando com Gradient Boosting\n",
    "from sklearn.ensemble import GradientBoostingRegressor\n",
    "from sklearn.model_selection import StratifiedKFold\n",
    "from sklearn.model_selection import cross_val_score\n",
    "#criacao do modelo\n",
    "modelo=GradientBoostingRegressor(n_estimators=500)\n",
    "resultado=cross_val_score(modelo,x,y,cv=3,n_jobs=-1)# -1 utiliza todos os cores do computador\n",
    "print(resultado.mean())"
   ]
  },
  {
   "cell_type": "code",
   "execution_count": null,
   "metadata": {
    "id": "dWX4eB8eAK1q"
   },
   "outputs": [],
   "source": [
    "##Tunando Gradient Boosting\n",
    "#Tuning\n",
    "import numpy as np\n",
    "from sklearn.ensemble import GradientBoostingRegressor \n",
    "from sklearn.model_selection import GridSearchCV\n",
    "from sklearn.model_selection import StratifiedKFold\n",
    "from sklearn.model_selection import cross_val_score\n",
    "\n",
    "#Definindo os valores que serao testados em GB\n",
    "valores_grid={\"learning_rate\": np.array([0.9,0.8,0.7,0.6,0.5,0.4,0.3,0.2,0.1,0.15,0.095,0.05,0.06,0.07,0.01,0.001]),\"n_estimators\": np.array([10,20,40,100,200,300,350,400,450,500])}\n",
    "#se a melhor perromance for os extremos, podenso ir refinando os extremos\n",
    "#na teoria, quanto maior o numero de estimadores eh melhor\n",
    "#lembrar de fixar o random o state\n",
    "\n",
    "# geralmente a mesma % que aumento os estimadores eu tenho que reduzir o learning rate\n",
    "#Criacao do modelo\n",
    "modelo=GradientBoostingRegressor()\n",
    "#criando os grids:\n",
    "gridGB=GridSearchCV(estimator=modelo,param_grid=valores_grid,cv=5,n_jobs=-1)\n",
    "gridGB.fit(x,y)\n",
    "\n",
    "#imprimindo melhores parametros\n",
    "print(\"Melhor taxa de aprendizagem: \",gridGB.best_estimator_.learning_rate)\n",
    "print(\"Melhor numero de estimadores: \",gridGB.best_estimator_.n_estimators)\n",
    "print(\"R2: \",gridGB.best_score_)\n",
    "#https://scikit-learn.org/stable/modules/model_evaluation.html#mean-absolute-error"
   ]
  },
  {
   "cell_type": "code",
   "execution_count": null,
   "metadata": {
    "id": "OFQogVYZAbp9"
   },
   "outputs": [],
   "source": [
    "#testando arvore de decisao\n",
    "from sklearn.tree import DecisionTreeRegressor\n",
    "from sklearn.model_selection import GridSearchCV #poderia ser a randomized search cv\n",
    "#from sklearn.metrics import fbeta_score,r2_score\n",
    "\n",
    "#Definindo os valores que serao testados em DecisionTree:\n",
    "minimos_split=np.array([2,3,4,5,6,7]) # quantidade minima de amostra que term que ter pra fazer o split\n",
    "maximo_nivel=np.array([3,4,5,6,7,9,11]) # tamanho da arvore, quantidade maximo de niveis\n",
    "algoritmo=[\"mse\",\"friedman_mse\",\"mae\"] #aqui ele faz a escolha do melhor split( cart, por exemplo- considera o menor erro e minimiza a funcao de custo) mas ele sempre considera media e desvio padrao, soh mud ao metodo de corte\n",
    "valores_grid={\"min_samples_split\":minimos_split,\"max_depth\":maximo_nivel,\"criterion\":algoritmo}\n",
    "\n",
    "#criacao do modelo\n",
    "modelo=DecisionTreeRegressor() #Instancia a funcao\n",
    "\n",
    "#Criando os grids\n",
    "gridDecisionTree=GridSearchCV(estimator=modelo,param_grid=valores_grid,cv=5)# cv=5 numero d efoldos pra fazer o crossvalidation\n",
    "gridDecisionTree=GridSearchCV(estimator=modelo,param_grid=valores_grid,cv=5) # variando o tipo de score neg_mean_absolute_error\n",
    "gridDecisionTree.fit(x,y)\n",
    "\n",
    "#Imprimindo os melhores parametros\n",
    "print(\"Minimo split: \",gridDecisionTree.best_estimator_.min_samples_split)\n",
    "print(\"Maxima Profundidade: \",gridDecisionTree.best_estimator_.max_depth)\n",
    "print(\"Algoritmo Escolhido: \",gridDecisionTree.best_estimator_.criterion)\n",
    "print(\"Coeficiente R2: \",gridDecisionTree.best_score_) # basta ver o score na documentacao"
   ]
  }
 ],
 "metadata": {
  "colab": {
   "collapsed_sections": [],
   "name": "Previsao de Valores de Plano de Saude.ipynb",
   "private_outputs": true,
   "provenance": []
  },
  "kernelspec": {
   "display_name": "Python 3 (ipykernel)",
   "language": "python",
   "name": "python3"
  },
  "language_info": {
   "codemirror_mode": {
    "name": "ipython",
    "version": 3
   },
   "file_extension": ".py",
   "mimetype": "text/x-python",
   "name": "python",
   "nbconvert_exporter": "python",
   "pygments_lexer": "ipython3",
   "version": "3.9.6"
  }
 },
 "nbformat": 4,
 "nbformat_minor": 1
}
